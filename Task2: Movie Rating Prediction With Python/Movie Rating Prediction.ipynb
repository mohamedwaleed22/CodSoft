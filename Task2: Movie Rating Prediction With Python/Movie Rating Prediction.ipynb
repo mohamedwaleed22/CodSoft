{
 "cells": [
  {
   "cell_type": "code",
   "execution_count": 1,
   "id": "d8710369",
   "metadata": {},
   "outputs": [],
   "source": [
    "import pandas as pd\n",
    "import numpy as np\n",
    "import matplotlib.pyplot as plt\n",
    "\n",
    "%matplotlib inline"
   ]
  },
  {
   "cell_type": "markdown",
   "id": "a11d8680",
   "metadata": {},
   "source": [
    "# Step 1: Data Investigation"
   ]
  },
  {
   "cell_type": "code",
   "execution_count": 2,
   "id": "427f121d",
   "metadata": {},
   "outputs": [
    {
     "data": {
      "text/html": [
       "<div>\n",
       "<style scoped>\n",
       "    .dataframe tbody tr th:only-of-type {\n",
       "        vertical-align: middle;\n",
       "    }\n",
       "\n",
       "    .dataframe tbody tr th {\n",
       "        vertical-align: top;\n",
       "    }\n",
       "\n",
       "    .dataframe thead th {\n",
       "        text-align: right;\n",
       "    }\n",
       "</style>\n",
       "<table border=\"1\" class=\"dataframe\">\n",
       "  <thead>\n",
       "    <tr style=\"text-align: right;\">\n",
       "      <th></th>\n",
       "      <th>Name</th>\n",
       "      <th>Year</th>\n",
       "      <th>Duration</th>\n",
       "      <th>Genre</th>\n",
       "      <th>Rating</th>\n",
       "      <th>Votes</th>\n",
       "      <th>Director</th>\n",
       "      <th>Actor 1</th>\n",
       "      <th>Actor 2</th>\n",
       "      <th>Actor 3</th>\n",
       "    </tr>\n",
       "  </thead>\n",
       "  <tbody>\n",
       "    <tr>\n",
       "      <th>0</th>\n",
       "      <td></td>\n",
       "      <td>NaN</td>\n",
       "      <td>NaN</td>\n",
       "      <td>Drama</td>\n",
       "      <td>NaN</td>\n",
       "      <td>NaN</td>\n",
       "      <td>J.S. Randhawa</td>\n",
       "      <td>Manmauji</td>\n",
       "      <td>Birbal</td>\n",
       "      <td>Rajendra Bhatia</td>\n",
       "    </tr>\n",
       "    <tr>\n",
       "      <th>1</th>\n",
       "      <td>#Gadhvi (He thought he was Gandhi)</td>\n",
       "      <td>(2019)</td>\n",
       "      <td>109 min</td>\n",
       "      <td>Drama</td>\n",
       "      <td>7.0</td>\n",
       "      <td>8</td>\n",
       "      <td>Gaurav Bakshi</td>\n",
       "      <td>Rasika Dugal</td>\n",
       "      <td>Vivek Ghamande</td>\n",
       "      <td>Arvind Jangid</td>\n",
       "    </tr>\n",
       "    <tr>\n",
       "      <th>2</th>\n",
       "      <td>#Homecoming</td>\n",
       "      <td>(2021)</td>\n",
       "      <td>90 min</td>\n",
       "      <td>Drama, Musical</td>\n",
       "      <td>NaN</td>\n",
       "      <td>NaN</td>\n",
       "      <td>Soumyajit Majumdar</td>\n",
       "      <td>Sayani Gupta</td>\n",
       "      <td>Plabita Borthakur</td>\n",
       "      <td>Roy Angana</td>\n",
       "    </tr>\n",
       "    <tr>\n",
       "      <th>3</th>\n",
       "      <td>#Yaaram</td>\n",
       "      <td>(2019)</td>\n",
       "      <td>110 min</td>\n",
       "      <td>Comedy, Romance</td>\n",
       "      <td>4.4</td>\n",
       "      <td>35</td>\n",
       "      <td>Ovais Khan</td>\n",
       "      <td>Prateik</td>\n",
       "      <td>Ishita Raj</td>\n",
       "      <td>Siddhant Kapoor</td>\n",
       "    </tr>\n",
       "    <tr>\n",
       "      <th>4</th>\n",
       "      <td>...And Once Again</td>\n",
       "      <td>(2010)</td>\n",
       "      <td>105 min</td>\n",
       "      <td>Drama</td>\n",
       "      <td>NaN</td>\n",
       "      <td>NaN</td>\n",
       "      <td>Amol Palekar</td>\n",
       "      <td>Rajat Kapoor</td>\n",
       "      <td>Rituparna Sengupta</td>\n",
       "      <td>Antara Mali</td>\n",
       "    </tr>\n",
       "  </tbody>\n",
       "</table>\n",
       "</div>"
      ],
      "text/plain": [
       "                                 Name    Year Duration            Genre  \\\n",
       "0                                         NaN      NaN            Drama   \n",
       "1  #Gadhvi (He thought he was Gandhi)  (2019)  109 min            Drama   \n",
       "2                         #Homecoming  (2021)   90 min   Drama, Musical   \n",
       "3                             #Yaaram  (2019)  110 min  Comedy, Romance   \n",
       "4                   ...And Once Again  (2010)  105 min            Drama   \n",
       "\n",
       "   Rating Votes            Director       Actor 1             Actor 2  \\\n",
       "0     NaN   NaN       J.S. Randhawa      Manmauji              Birbal   \n",
       "1     7.0     8       Gaurav Bakshi  Rasika Dugal      Vivek Ghamande   \n",
       "2     NaN   NaN  Soumyajit Majumdar  Sayani Gupta   Plabita Borthakur   \n",
       "3     4.4    35          Ovais Khan       Prateik          Ishita Raj   \n",
       "4     NaN   NaN        Amol Palekar  Rajat Kapoor  Rituparna Sengupta   \n",
       "\n",
       "           Actor 3  \n",
       "0  Rajendra Bhatia  \n",
       "1    Arvind Jangid  \n",
       "2       Roy Angana  \n",
       "3  Siddhant Kapoor  \n",
       "4      Antara Mali  "
      ]
     },
     "execution_count": 2,
     "metadata": {},
     "output_type": "execute_result"
    }
   ],
   "source": [
    "df = pd.read_csv(\"D:/projects/CodSoft_Projects/Task2/IMDb Movies India.csv\", encoding='latin1')\n",
    "df.head()"
   ]
  },
  {
   "cell_type": "code",
   "execution_count": 3,
   "id": "d928f5fc",
   "metadata": {},
   "outputs": [
    {
     "data": {
      "text/plain": [
       "(15509, 10)"
      ]
     },
     "execution_count": 3,
     "metadata": {},
     "output_type": "execute_result"
    }
   ],
   "source": [
    "df.shape"
   ]
  },
  {
   "cell_type": "code",
   "execution_count": 4,
   "id": "82af1dc3",
   "metadata": {},
   "outputs": [
    {
     "name": "stdout",
     "output_type": "stream",
     "text": [
      "<class 'pandas.core.frame.DataFrame'>\n",
      "RangeIndex: 15509 entries, 0 to 15508\n",
      "Data columns (total 10 columns):\n",
      " #   Column    Non-Null Count  Dtype  \n",
      "---  ------    --------------  -----  \n",
      " 0   Name      15509 non-null  object \n",
      " 1   Year      14981 non-null  object \n",
      " 2   Duration  7240 non-null   object \n",
      " 3   Genre     13632 non-null  object \n",
      " 4   Rating    7919 non-null   float64\n",
      " 5   Votes     7920 non-null   object \n",
      " 6   Director  14984 non-null  object \n",
      " 7   Actor 1   13892 non-null  object \n",
      " 8   Actor 2   13125 non-null  object \n",
      " 9   Actor 3   12365 non-null  object \n",
      "dtypes: float64(1), object(9)\n",
      "memory usage: 1.2+ MB\n"
     ]
    }
   ],
   "source": [
    "df.info()"
   ]
  },
  {
   "cell_type": "markdown",
   "id": "b4fa6b0a",
   "metadata": {},
   "source": [
    "## Dropping null values"
   ]
  },
  {
   "cell_type": "code",
   "execution_count": 5,
   "id": "b52e26e6",
   "metadata": {},
   "outputs": [
    {
     "name": "stdout",
     "output_type": "stream",
     "text": [
      "<class 'pandas.core.frame.DataFrame'>\n",
      "Int64Index: 5659 entries, 1 to 15508\n",
      "Data columns (total 10 columns):\n",
      " #   Column    Non-Null Count  Dtype  \n",
      "---  ------    --------------  -----  \n",
      " 0   Name      5659 non-null   object \n",
      " 1   Year      5659 non-null   object \n",
      " 2   Duration  5659 non-null   object \n",
      " 3   Genre     5659 non-null   object \n",
      " 4   Rating    5659 non-null   float64\n",
      " 5   Votes     5659 non-null   object \n",
      " 6   Director  5659 non-null   object \n",
      " 7   Actor 1   5659 non-null   object \n",
      " 8   Actor 2   5659 non-null   object \n",
      " 9   Actor 3   5659 non-null   object \n",
      "dtypes: float64(1), object(9)\n",
      "memory usage: 486.3+ KB\n"
     ]
    }
   ],
   "source": [
    "df.dropna(inplace=True)\n",
    "df.info()"
   ]
  },
  {
   "cell_type": "code",
   "execution_count": 6,
   "id": "ee9e259c",
   "metadata": {},
   "outputs": [
    {
     "data": {
      "text/html": [
       "<div>\n",
       "<style scoped>\n",
       "    .dataframe tbody tr th:only-of-type {\n",
       "        vertical-align: middle;\n",
       "    }\n",
       "\n",
       "    .dataframe tbody tr th {\n",
       "        vertical-align: top;\n",
       "    }\n",
       "\n",
       "    .dataframe thead th {\n",
       "        text-align: right;\n",
       "    }\n",
       "</style>\n",
       "<table border=\"1\" class=\"dataframe\">\n",
       "  <thead>\n",
       "    <tr style=\"text-align: right;\">\n",
       "      <th></th>\n",
       "      <th>Rating</th>\n",
       "    </tr>\n",
       "  </thead>\n",
       "  <tbody>\n",
       "    <tr>\n",
       "      <th>count</th>\n",
       "      <td>5659.000000</td>\n",
       "    </tr>\n",
       "    <tr>\n",
       "      <th>mean</th>\n",
       "      <td>5.898533</td>\n",
       "    </tr>\n",
       "    <tr>\n",
       "      <th>std</th>\n",
       "      <td>1.381165</td>\n",
       "    </tr>\n",
       "    <tr>\n",
       "      <th>min</th>\n",
       "      <td>1.100000</td>\n",
       "    </tr>\n",
       "    <tr>\n",
       "      <th>25%</th>\n",
       "      <td>5.000000</td>\n",
       "    </tr>\n",
       "    <tr>\n",
       "      <th>50%</th>\n",
       "      <td>6.100000</td>\n",
       "    </tr>\n",
       "    <tr>\n",
       "      <th>75%</th>\n",
       "      <td>6.900000</td>\n",
       "    </tr>\n",
       "    <tr>\n",
       "      <th>max</th>\n",
       "      <td>10.000000</td>\n",
       "    </tr>\n",
       "  </tbody>\n",
       "</table>\n",
       "</div>"
      ],
      "text/plain": [
       "            Rating\n",
       "count  5659.000000\n",
       "mean      5.898533\n",
       "std       1.381165\n",
       "min       1.100000\n",
       "25%       5.000000\n",
       "50%       6.100000\n",
       "75%       6.900000\n",
       "max      10.000000"
      ]
     },
     "execution_count": 6,
     "metadata": {},
     "output_type": "execute_result"
    }
   ],
   "source": [
    "df.describe()"
   ]
  },
  {
   "cell_type": "markdown",
   "id": "eca6c0b7",
   "metadata": {},
   "source": [
    "# Step 2: Data Exploration, Analysis, and Preprocessing"
   ]
  },
  {
   "cell_type": "markdown",
   "id": "368321cb",
   "metadata": {},
   "source": [
    "## Top rated movie"
   ]
  },
  {
   "cell_type": "code",
   "execution_count": 7,
   "id": "d6d4bdfc",
   "metadata": {},
   "outputs": [
    {
     "data": {
      "text/html": [
       "<div>\n",
       "<style scoped>\n",
       "    .dataframe tbody tr th:only-of-type {\n",
       "        vertical-align: middle;\n",
       "    }\n",
       "\n",
       "    .dataframe tbody tr th {\n",
       "        vertical-align: top;\n",
       "    }\n",
       "\n",
       "    .dataframe thead th {\n",
       "        text-align: right;\n",
       "    }\n",
       "</style>\n",
       "<table border=\"1\" class=\"dataframe\">\n",
       "  <thead>\n",
       "    <tr style=\"text-align: right;\">\n",
       "      <th></th>\n",
       "      <th>Name</th>\n",
       "      <th>Year</th>\n",
       "      <th>Duration</th>\n",
       "      <th>Genre</th>\n",
       "      <th>Rating</th>\n",
       "      <th>Votes</th>\n",
       "      <th>Director</th>\n",
       "      <th>Actor 1</th>\n",
       "      <th>Actor 2</th>\n",
       "      <th>Actor 3</th>\n",
       "    </tr>\n",
       "  </thead>\n",
       "  <tbody>\n",
       "    <tr>\n",
       "      <th>8339</th>\n",
       "      <td>Love Qubool Hai</td>\n",
       "      <td>(2020)</td>\n",
       "      <td>94 min</td>\n",
       "      <td>Drama, Romance</td>\n",
       "      <td>10.0</td>\n",
       "      <td>5</td>\n",
       "      <td>Saif Ali Sayeed</td>\n",
       "      <td>Ahaan Jha</td>\n",
       "      <td>Mahesh Narayan</td>\n",
       "      <td>Rajasree Rajakumari</td>\n",
       "    </tr>\n",
       "  </tbody>\n",
       "</table>\n",
       "</div>"
      ],
      "text/plain": [
       "                 Name    Year Duration           Genre  Rating Votes  \\\n",
       "8339  Love Qubool Hai  (2020)   94 min  Drama, Romance    10.0     5   \n",
       "\n",
       "             Director    Actor 1         Actor 2              Actor 3  \n",
       "8339  Saif Ali Sayeed  Ahaan Jha  Mahesh Narayan  Rajasree Rajakumari  "
      ]
     },
     "execution_count": 7,
     "metadata": {},
     "output_type": "execute_result"
    }
   ],
   "source": [
    "df[df['Rating'] == 10]"
   ]
  },
  {
   "cell_type": "markdown",
   "id": "4f47f282",
   "metadata": {},
   "source": [
    "## Extracting numeric features and converting the columns"
   ]
  },
  {
   "cell_type": "code",
   "execution_count": 8,
   "id": "f3ca9ff4",
   "metadata": {},
   "outputs": [
    {
     "name": "stdout",
     "output_type": "stream",
     "text": [
      "<class 'pandas.core.frame.DataFrame'>\n",
      "Int64Index: 5659 entries, 1 to 15508\n",
      "Data columns (total 10 columns):\n",
      " #   Column    Non-Null Count  Dtype  \n",
      "---  ------    --------------  -----  \n",
      " 0   Name      5659 non-null   object \n",
      " 1   Year      5659 non-null   int32  \n",
      " 2   Duration  5659 non-null   int32  \n",
      " 3   Genre     5659 non-null   object \n",
      " 4   Rating    5659 non-null   float64\n",
      " 5   Votes     5659 non-null   int32  \n",
      " 6   Director  5659 non-null   object \n",
      " 7   Actor 1   5659 non-null   object \n",
      " 8   Actor 2   5659 non-null   object \n",
      " 9   Actor 3   5659 non-null   object \n",
      "dtypes: float64(1), int32(3), object(6)\n",
      "memory usage: 420.0+ KB\n"
     ]
    }
   ],
   "source": [
    "df['Year'] = df['Year'].str.extract('(\\d+)').astype(int)\n",
    "df['Duration'] = df['Duration'].str.extract('(\\d+)').astype(int)\n",
    "df['Votes'] = df['Votes'].str.replace(',', '').astype(int)\n",
    "\n",
    "df.info()"
   ]
  },
  {
   "cell_type": "markdown",
   "id": "3259b9d6",
   "metadata": {},
   "source": [
    "## Top voted movie"
   ]
  },
  {
   "cell_type": "code",
   "execution_count": 9,
   "id": "aeb2797d",
   "metadata": {},
   "outputs": [
    {
     "data": {
      "text/plain": [
       "count      5659.000000\n",
       "mean       2697.649585\n",
       "std       13651.503584\n",
       "min           5.000000\n",
       "25%          30.000000\n",
       "50%         131.000000\n",
       "75%         922.500000\n",
       "max      591417.000000\n",
       "Name: Votes, dtype: float64"
      ]
     },
     "execution_count": 9,
     "metadata": {},
     "output_type": "execute_result"
    }
   ],
   "source": [
    "df.Votes.describe()"
   ]
  },
  {
   "cell_type": "code",
   "execution_count": 10,
   "id": "ac09b7cc",
   "metadata": {},
   "outputs": [
    {
     "data": {
      "text/html": [
       "<div>\n",
       "<style scoped>\n",
       "    .dataframe tbody tr th:only-of-type {\n",
       "        vertical-align: middle;\n",
       "    }\n",
       "\n",
       "    .dataframe tbody tr th {\n",
       "        vertical-align: top;\n",
       "    }\n",
       "\n",
       "    .dataframe thead th {\n",
       "        text-align: right;\n",
       "    }\n",
       "</style>\n",
       "<table border=\"1\" class=\"dataframe\">\n",
       "  <thead>\n",
       "    <tr style=\"text-align: right;\">\n",
       "      <th></th>\n",
       "      <th>Name</th>\n",
       "      <th>Year</th>\n",
       "      <th>Duration</th>\n",
       "      <th>Genre</th>\n",
       "      <th>Rating</th>\n",
       "      <th>Votes</th>\n",
       "      <th>Director</th>\n",
       "      <th>Actor 1</th>\n",
       "      <th>Actor 2</th>\n",
       "      <th>Actor 3</th>\n",
       "    </tr>\n",
       "  </thead>\n",
       "  <tbody>\n",
       "    <tr>\n",
       "      <th>8219</th>\n",
       "      <td>Life of Pi</td>\n",
       "      <td>2012</td>\n",
       "      <td>127</td>\n",
       "      <td>Adventure, Drama, Fantasy</td>\n",
       "      <td>7.9</td>\n",
       "      <td>591417</td>\n",
       "      <td>Ang Lee</td>\n",
       "      <td>Suraj Sharma</td>\n",
       "      <td>Irrfan Khan</td>\n",
       "      <td>Adil Hussain</td>\n",
       "    </tr>\n",
       "  </tbody>\n",
       "</table>\n",
       "</div>"
      ],
      "text/plain": [
       "            Name  Year  Duration                      Genre  Rating   Votes  \\\n",
       "8219  Life of Pi  2012       127  Adventure, Drama, Fantasy     7.9  591417   \n",
       "\n",
       "     Director       Actor 1      Actor 2       Actor 3  \n",
       "8219  Ang Lee  Suraj Sharma  Irrfan Khan  Adil Hussain  "
      ]
     },
     "execution_count": 10,
     "metadata": {},
     "output_type": "execute_result"
    }
   ],
   "source": [
    "df[df['Votes'] == df.Votes.max()]"
   ]
  },
  {
   "cell_type": "markdown",
   "id": "5f65a2c4",
   "metadata": {},
   "source": [
    "## Most Frequent Genres"
   ]
  },
  {
   "cell_type": "code",
   "execution_count": 11,
   "id": "8531f0b2",
   "metadata": {},
   "outputs": [
    {
     "data": {
      "text/plain": [
       "Drama                              844\n",
       "Drama, Romance                     332\n",
       "Action, Crime, Drama               329\n",
       "Action, Drama                      206\n",
       "Comedy, Drama                      205\n",
       "                                  ... \n",
       "Comedy, Crime, Musical               1\n",
       "History, Romance                     1\n",
       "Drama, History, Sport                1\n",
       "Animation, Comedy, Drama             1\n",
       "Documentary, Biography, Musical      1\n",
       "Name: Genre, Length: 376, dtype: int64"
      ]
     },
     "execution_count": 11,
     "metadata": {},
     "output_type": "execute_result"
    }
   ],
   "source": [
    "df.Genre.value_counts()"
   ]
  },
  {
   "cell_type": "markdown",
   "id": "7a18fb3a",
   "metadata": {},
   "source": [
    "## Top rated years "
   ]
  },
  {
   "cell_type": "code",
   "execution_count": 12,
   "id": "4eddc522",
   "metadata": {},
   "outputs": [
    {
     "data": {
      "text/plain": [
       "Year\n",
       "1952    7.212500\n",
       "1957    7.080645\n",
       "1944    7.075000\n",
       "1940    7.050000\n",
       "1953    6.955000\n",
       "Name: Rating, dtype: float64"
      ]
     },
     "execution_count": 12,
     "metadata": {},
     "output_type": "execute_result"
    }
   ],
   "source": [
    "years = df.groupby(df['Year'])['Rating'].mean()\n",
    "years = years.sort_values(ascending=False)\n",
    "years.head()"
   ]
  },
  {
   "cell_type": "markdown",
   "id": "b0c21de0",
   "metadata": {},
   "source": [
    "## Top voted years"
   ]
  },
  {
   "cell_type": "code",
   "execution_count": 13,
   "id": "4cc47e44",
   "metadata": {},
   "outputs": [
    {
     "data": {
      "text/plain": [
       "Year\n",
       "2012    9900.971429\n",
       "2007    7212.017094\n",
       "2016    6780.601156\n",
       "2009    5938.805085\n",
       "2020    5819.257143\n",
       "Name: Votes, dtype: float64"
      ]
     },
     "execution_count": 13,
     "metadata": {},
     "output_type": "execute_result"
    }
   ],
   "source": [
    "years = df.groupby(df['Year'])['Votes'].mean()\n",
    "years = years.sort_values(ascending=False)\n",
    "years.head()"
   ]
  },
  {
   "cell_type": "markdown",
   "id": "702c085e",
   "metadata": {},
   "source": [
    "## Most frequent directors"
   ]
  },
  {
   "cell_type": "code",
   "execution_count": 14,
   "id": "e84d8ad2",
   "metadata": {},
   "outputs": [
    {
     "data": {
      "text/plain": [
       "David Dhawan            41\n",
       "Mahesh Bhatt            39\n",
       "Ram Gopal Varma         33\n",
       "Hrishikesh Mukherjee    33\n",
       "Shakti Samanta          33\n",
       "                        ..\n",
       "Sriram Raja              1\n",
       "Randeep Jha              1\n",
       "Vicky Bhardwaj           1\n",
       "Salar Shaikh             1\n",
       "Mozez Singh              1\n",
       "Name: Director, Length: 2431, dtype: int64"
      ]
     },
     "execution_count": 14,
     "metadata": {},
     "output_type": "execute_result"
    }
   ],
   "source": [
    "df.Director.value_counts()"
   ]
  },
  {
   "cell_type": "markdown",
   "id": "db29dfbd",
   "metadata": {},
   "source": [
    "## Most frequent actors"
   ]
  },
  {
   "cell_type": "code",
   "execution_count": 15,
   "id": "49becc7b",
   "metadata": {},
   "outputs": [
    {
     "data": {
      "text/plain": [
       "Mithun Chakraborty    160\n",
       "Amitabh Bachchan      148\n",
       "Dharmendra            146\n",
       "Ashok Kumar           124\n",
       "Akshay Kumar          120\n",
       "                     ... \n",
       "Rajeev Dassani          1\n",
       "Rehaan Engineer         1\n",
       "Glenn                   1\n",
       "Pernia Qureshi          1\n",
       "Shatakshi Gupta         1\n",
       "Length: 5041, dtype: int64"
      ]
     },
     "execution_count": 15,
     "metadata": {},
     "output_type": "execute_result"
    }
   ],
   "source": [
    "actors = pd.concat([df['Actor 1'], df['Actor 2'], df['Actor 3']])\n",
    "actors.value_counts()"
   ]
  },
  {
   "cell_type": "markdown",
   "id": "18563195",
   "metadata": {},
   "source": [
    "# Step 3: Feature Engineering"
   ]
  },
  {
   "cell_type": "markdown",
   "id": "b913d3fd",
   "metadata": {},
   "source": [
    "## Combining features"
   ]
  },
  {
   "cell_type": "code",
   "execution_count": 16,
   "id": "48a210d2",
   "metadata": {},
   "outputs": [
    {
     "data": {
      "text/html": [
       "<div>\n",
       "<style scoped>\n",
       "    .dataframe tbody tr th:only-of-type {\n",
       "        vertical-align: middle;\n",
       "    }\n",
       "\n",
       "    .dataframe tbody tr th {\n",
       "        vertical-align: top;\n",
       "    }\n",
       "\n",
       "    .dataframe thead th {\n",
       "        text-align: right;\n",
       "    }\n",
       "</style>\n",
       "<table border=\"1\" class=\"dataframe\">\n",
       "  <thead>\n",
       "    <tr style=\"text-align: right;\">\n",
       "      <th></th>\n",
       "      <th>Name</th>\n",
       "      <th>Year</th>\n",
       "      <th>Duration</th>\n",
       "      <th>Genre</th>\n",
       "      <th>Rating</th>\n",
       "      <th>Votes</th>\n",
       "      <th>Director</th>\n",
       "      <th>Actor 1</th>\n",
       "      <th>Actor 2</th>\n",
       "      <th>Actor 3</th>\n",
       "      <th>Combined Actors</th>\n",
       "    </tr>\n",
       "  </thead>\n",
       "  <tbody>\n",
       "    <tr>\n",
       "      <th>1</th>\n",
       "      <td>#Gadhvi (He thought he was Gandhi)</td>\n",
       "      <td>2019</td>\n",
       "      <td>109</td>\n",
       "      <td>Drama</td>\n",
       "      <td>7.0</td>\n",
       "      <td>8</td>\n",
       "      <td>Gaurav Bakshi</td>\n",
       "      <td>Rasika Dugal</td>\n",
       "      <td>Vivek Ghamande</td>\n",
       "      <td>Arvind Jangid</td>\n",
       "      <td>Rasika Dugal, Vivek Ghamande, Arvind Jangid</td>\n",
       "    </tr>\n",
       "    <tr>\n",
       "      <th>3</th>\n",
       "      <td>#Yaaram</td>\n",
       "      <td>2019</td>\n",
       "      <td>110</td>\n",
       "      <td>Comedy, Romance</td>\n",
       "      <td>4.4</td>\n",
       "      <td>35</td>\n",
       "      <td>Ovais Khan</td>\n",
       "      <td>Prateik</td>\n",
       "      <td>Ishita Raj</td>\n",
       "      <td>Siddhant Kapoor</td>\n",
       "      <td>Prateik, Ishita Raj, Siddhant Kapoor</td>\n",
       "    </tr>\n",
       "    <tr>\n",
       "      <th>5</th>\n",
       "      <td>...Aur Pyaar Ho Gaya</td>\n",
       "      <td>1997</td>\n",
       "      <td>147</td>\n",
       "      <td>Comedy, Drama, Musical</td>\n",
       "      <td>4.7</td>\n",
       "      <td>827</td>\n",
       "      <td>Rahul Rawail</td>\n",
       "      <td>Bobby Deol</td>\n",
       "      <td>Aishwarya Rai Bachchan</td>\n",
       "      <td>Shammi Kapoor</td>\n",
       "      <td>Bobby Deol, Aishwarya Rai Bachchan, Shammi Kapoor</td>\n",
       "    </tr>\n",
       "    <tr>\n",
       "      <th>6</th>\n",
       "      <td>...Yahaan</td>\n",
       "      <td>2005</td>\n",
       "      <td>142</td>\n",
       "      <td>Drama, Romance, War</td>\n",
       "      <td>7.4</td>\n",
       "      <td>1086</td>\n",
       "      <td>Shoojit Sircar</td>\n",
       "      <td>Jimmy Sheirgill</td>\n",
       "      <td>Minissha Lamba</td>\n",
       "      <td>Yashpal Sharma</td>\n",
       "      <td>Jimmy Sheirgill, Minissha Lamba, Yashpal Sharma</td>\n",
       "    </tr>\n",
       "    <tr>\n",
       "      <th>8</th>\n",
       "      <td>?: A Question Mark</td>\n",
       "      <td>2012</td>\n",
       "      <td>82</td>\n",
       "      <td>Horror, Mystery, Thriller</td>\n",
       "      <td>5.6</td>\n",
       "      <td>326</td>\n",
       "      <td>Allyson Patel</td>\n",
       "      <td>Yash Dave</td>\n",
       "      <td>Muntazir Ahmad</td>\n",
       "      <td>Kiran Bhatia</td>\n",
       "      <td>Yash Dave, Muntazir Ahmad, Kiran Bhatia</td>\n",
       "    </tr>\n",
       "  </tbody>\n",
       "</table>\n",
       "</div>"
      ],
      "text/plain": [
       "                                 Name  Year  Duration  \\\n",
       "1  #Gadhvi (He thought he was Gandhi)  2019       109   \n",
       "3                             #Yaaram  2019       110   \n",
       "5                ...Aur Pyaar Ho Gaya  1997       147   \n",
       "6                           ...Yahaan  2005       142   \n",
       "8                  ?: A Question Mark  2012        82   \n",
       "\n",
       "                       Genre  Rating  Votes        Director          Actor 1  \\\n",
       "1                      Drama     7.0      8   Gaurav Bakshi     Rasika Dugal   \n",
       "3            Comedy, Romance     4.4     35      Ovais Khan          Prateik   \n",
       "5     Comedy, Drama, Musical     4.7    827    Rahul Rawail       Bobby Deol   \n",
       "6        Drama, Romance, War     7.4   1086  Shoojit Sircar  Jimmy Sheirgill   \n",
       "8  Horror, Mystery, Thriller     5.6    326   Allyson Patel        Yash Dave   \n",
       "\n",
       "                  Actor 2          Actor 3  \\\n",
       "1          Vivek Ghamande    Arvind Jangid   \n",
       "3              Ishita Raj  Siddhant Kapoor   \n",
       "5  Aishwarya Rai Bachchan    Shammi Kapoor   \n",
       "6          Minissha Lamba   Yashpal Sharma   \n",
       "8          Muntazir Ahmad     Kiran Bhatia   \n",
       "\n",
       "                                     Combined Actors  \n",
       "1        Rasika Dugal, Vivek Ghamande, Arvind Jangid  \n",
       "3               Prateik, Ishita Raj, Siddhant Kapoor  \n",
       "5  Bobby Deol, Aishwarya Rai Bachchan, Shammi Kapoor  \n",
       "6    Jimmy Sheirgill, Minissha Lamba, Yashpal Sharma  \n",
       "8            Yash Dave, Muntazir Ahmad, Kiran Bhatia  "
      ]
     },
     "execution_count": 16,
     "metadata": {},
     "output_type": "execute_result"
    }
   ],
   "source": [
    "df['Combined Actors'] = df['Actor 1'].str.cat([df['Actor 2'], df['Actor 3']], sep=', ')\n",
    "df.head()"
   ]
  },
  {
   "cell_type": "code",
   "execution_count": 17,
   "id": "8db2a15b",
   "metadata": {},
   "outputs": [
    {
     "data": {
      "text/plain": [
       "Dharmendra, Sunny Deol, Bobby Deol                  3\n",
       "Anil Kapoor, Sridevi, Anupam Kher                   3\n",
       "Dibakar Banerjee, Karan Johar, Anurag Kashyap       3\n",
       "Sunny Deol, Anil Kapoor, Sridevi                    2\n",
       "Dharmendra, Saira Banu, Feroz Khan                  2\n",
       "                                                   ..\n",
       "Sunny Deol, Meenakshi Sheshadri, Danny Denzongpa    1\n",
       "Mani Kaul, Saeed Akhtar Mirza, Kamal Swaroop        1\n",
       "Anil Kapoor, Raveena Tandon, Rambha                 1\n",
       "Amol Palekar, Zarina Wahab, Sadhu Meher             1\n",
       "Dharmendra, Jaya Prada, Arjun Sarja                 1\n",
       "Name: Combined Actors, Length: 5604, dtype: int64"
      ]
     },
     "execution_count": 17,
     "metadata": {},
     "output_type": "execute_result"
    }
   ],
   "source": [
    "df['Combined Actors'].value_counts()"
   ]
  },
  {
   "cell_type": "markdown",
   "id": "daa97562",
   "metadata": {},
   "source": [
    "## Dropping unused columns"
   ]
  },
  {
   "cell_type": "code",
   "execution_count": 18,
   "id": "9c6dfa2e",
   "metadata": {},
   "outputs": [
    {
     "data": {
      "text/html": [
       "<div>\n",
       "<style scoped>\n",
       "    .dataframe tbody tr th:only-of-type {\n",
       "        vertical-align: middle;\n",
       "    }\n",
       "\n",
       "    .dataframe tbody tr th {\n",
       "        vertical-align: top;\n",
       "    }\n",
       "\n",
       "    .dataframe thead th {\n",
       "        text-align: right;\n",
       "    }\n",
       "</style>\n",
       "<table border=\"1\" class=\"dataframe\">\n",
       "  <thead>\n",
       "    <tr style=\"text-align: right;\">\n",
       "      <th></th>\n",
       "      <th>Year</th>\n",
       "      <th>Duration</th>\n",
       "      <th>Genre</th>\n",
       "      <th>Rating</th>\n",
       "      <th>Votes</th>\n",
       "      <th>Director</th>\n",
       "      <th>Combined Actors</th>\n",
       "    </tr>\n",
       "  </thead>\n",
       "  <tbody>\n",
       "    <tr>\n",
       "      <th>1</th>\n",
       "      <td>2019</td>\n",
       "      <td>109</td>\n",
       "      <td>Drama</td>\n",
       "      <td>7.0</td>\n",
       "      <td>8</td>\n",
       "      <td>Gaurav Bakshi</td>\n",
       "      <td>Rasika Dugal, Vivek Ghamande, Arvind Jangid</td>\n",
       "    </tr>\n",
       "    <tr>\n",
       "      <th>3</th>\n",
       "      <td>2019</td>\n",
       "      <td>110</td>\n",
       "      <td>Comedy, Romance</td>\n",
       "      <td>4.4</td>\n",
       "      <td>35</td>\n",
       "      <td>Ovais Khan</td>\n",
       "      <td>Prateik, Ishita Raj, Siddhant Kapoor</td>\n",
       "    </tr>\n",
       "    <tr>\n",
       "      <th>5</th>\n",
       "      <td>1997</td>\n",
       "      <td>147</td>\n",
       "      <td>Comedy, Drama, Musical</td>\n",
       "      <td>4.7</td>\n",
       "      <td>827</td>\n",
       "      <td>Rahul Rawail</td>\n",
       "      <td>Bobby Deol, Aishwarya Rai Bachchan, Shammi Kapoor</td>\n",
       "    </tr>\n",
       "    <tr>\n",
       "      <th>6</th>\n",
       "      <td>2005</td>\n",
       "      <td>142</td>\n",
       "      <td>Drama, Romance, War</td>\n",
       "      <td>7.4</td>\n",
       "      <td>1086</td>\n",
       "      <td>Shoojit Sircar</td>\n",
       "      <td>Jimmy Sheirgill, Minissha Lamba, Yashpal Sharma</td>\n",
       "    </tr>\n",
       "    <tr>\n",
       "      <th>8</th>\n",
       "      <td>2012</td>\n",
       "      <td>82</td>\n",
       "      <td>Horror, Mystery, Thriller</td>\n",
       "      <td>5.6</td>\n",
       "      <td>326</td>\n",
       "      <td>Allyson Patel</td>\n",
       "      <td>Yash Dave, Muntazir Ahmad, Kiran Bhatia</td>\n",
       "    </tr>\n",
       "  </tbody>\n",
       "</table>\n",
       "</div>"
      ],
      "text/plain": [
       "   Year  Duration                      Genre  Rating  Votes        Director  \\\n",
       "1  2019       109                      Drama     7.0      8   Gaurav Bakshi   \n",
       "3  2019       110            Comedy, Romance     4.4     35      Ovais Khan   \n",
       "5  1997       147     Comedy, Drama, Musical     4.7    827    Rahul Rawail   \n",
       "6  2005       142        Drama, Romance, War     7.4   1086  Shoojit Sircar   \n",
       "8  2012        82  Horror, Mystery, Thriller     5.6    326   Allyson Patel   \n",
       "\n",
       "                                     Combined Actors  \n",
       "1        Rasika Dugal, Vivek Ghamande, Arvind Jangid  \n",
       "3               Prateik, Ishita Raj, Siddhant Kapoor  \n",
       "5  Bobby Deol, Aishwarya Rai Bachchan, Shammi Kapoor  \n",
       "6    Jimmy Sheirgill, Minissha Lamba, Yashpal Sharma  \n",
       "8            Yash Dave, Muntazir Ahmad, Kiran Bhatia  "
      ]
     },
     "execution_count": 18,
     "metadata": {},
     "output_type": "execute_result"
    }
   ],
   "source": [
    "df.drop(['Name', 'Actor 1', 'Actor 2', 'Actor 3'], axis=1, inplace=True)\n",
    "\n",
    "df.head()"
   ]
  },
  {
   "cell_type": "markdown",
   "id": "a04755e3",
   "metadata": {},
   "source": [
    "## Frequency Encoding "
   ]
  },
  {
   "cell_type": "code",
   "execution_count": 19,
   "id": "e2340ed1",
   "metadata": {},
   "outputs": [
    {
     "data": {
      "text/html": [
       "<div>\n",
       "<style scoped>\n",
       "    .dataframe tbody tr th:only-of-type {\n",
       "        vertical-align: middle;\n",
       "    }\n",
       "\n",
       "    .dataframe tbody tr th {\n",
       "        vertical-align: top;\n",
       "    }\n",
       "\n",
       "    .dataframe thead th {\n",
       "        text-align: right;\n",
       "    }\n",
       "</style>\n",
       "<table border=\"1\" class=\"dataframe\">\n",
       "  <thead>\n",
       "    <tr style=\"text-align: right;\">\n",
       "      <th></th>\n",
       "      <th>Year</th>\n",
       "      <th>Duration</th>\n",
       "      <th>Rating</th>\n",
       "      <th>Votes</th>\n",
       "      <th>genre_encoded</th>\n",
       "      <th>director_encoded</th>\n",
       "      <th>actors_encoded</th>\n",
       "    </tr>\n",
       "  </thead>\n",
       "  <tbody>\n",
       "    <tr>\n",
       "      <th>1</th>\n",
       "      <td>2019</td>\n",
       "      <td>109</td>\n",
       "      <td>7.0</td>\n",
       "      <td>8</td>\n",
       "      <td>844</td>\n",
       "      <td>1</td>\n",
       "      <td>1</td>\n",
       "    </tr>\n",
       "    <tr>\n",
       "      <th>3</th>\n",
       "      <td>2019</td>\n",
       "      <td>110</td>\n",
       "      <td>4.4</td>\n",
       "      <td>35</td>\n",
       "      <td>107</td>\n",
       "      <td>1</td>\n",
       "      <td>1</td>\n",
       "    </tr>\n",
       "    <tr>\n",
       "      <th>5</th>\n",
       "      <td>1997</td>\n",
       "      <td>147</td>\n",
       "      <td>4.7</td>\n",
       "      <td>827</td>\n",
       "      <td>45</td>\n",
       "      <td>15</td>\n",
       "      <td>1</td>\n",
       "    </tr>\n",
       "    <tr>\n",
       "      <th>6</th>\n",
       "      <td>2005</td>\n",
       "      <td>142</td>\n",
       "      <td>7.4</td>\n",
       "      <td>1086</td>\n",
       "      <td>5</td>\n",
       "      <td>6</td>\n",
       "      <td>1</td>\n",
       "    </tr>\n",
       "    <tr>\n",
       "      <th>8</th>\n",
       "      <td>2012</td>\n",
       "      <td>82</td>\n",
       "      <td>5.6</td>\n",
       "      <td>326</td>\n",
       "      <td>9</td>\n",
       "      <td>1</td>\n",
       "      <td>1</td>\n",
       "    </tr>\n",
       "  </tbody>\n",
       "</table>\n",
       "</div>"
      ],
      "text/plain": [
       "   Year  Duration  Rating  Votes  genre_encoded  director_encoded  \\\n",
       "1  2019       109     7.0      8            844                 1   \n",
       "3  2019       110     4.4     35            107                 1   \n",
       "5  1997       147     4.7    827             45                15   \n",
       "6  2005       142     7.4   1086              5                 6   \n",
       "8  2012        82     5.6    326              9                 1   \n",
       "\n",
       "   actors_encoded  \n",
       "1               1  \n",
       "3               1  \n",
       "5               1  \n",
       "6               1  \n",
       "8               1  "
      ]
     },
     "execution_count": 19,
     "metadata": {},
     "output_type": "execute_result"
    }
   ],
   "source": [
    "genre_counts = df['Genre'].value_counts().to_dict()\n",
    "director_counts = df['Director'].value_counts().to_dict()\n",
    "actors_counts = df['Combined Actors'].value_counts().to_dict()\n",
    "\n",
    "\n",
    "df['genre_encoded'] = df['Genre'].map(genre_counts)\n",
    "df['director_encoded'] = df['Director'].map(director_counts)\n",
    "df['actors_encoded'] = df['Combined Actors'].map(actors_counts)\n",
    "\n",
    "\n",
    "df.drop(['Genre', 'Director', 'Combined Actors'], axis=1, inplace=True)\n",
    "\n",
    "df.head()"
   ]
  },
  {
   "cell_type": "code",
   "execution_count": 20,
   "id": "763470c7",
   "metadata": {},
   "outputs": [
    {
     "name": "stdout",
     "output_type": "stream",
     "text": [
      "<class 'pandas.core.frame.DataFrame'>\n",
      "Int64Index: 5659 entries, 1 to 15508\n",
      "Data columns (total 7 columns):\n",
      " #   Column            Non-Null Count  Dtype  \n",
      "---  ------            --------------  -----  \n",
      " 0   Year              5659 non-null   int32  \n",
      " 1   Duration          5659 non-null   int32  \n",
      " 2   Rating            5659 non-null   float64\n",
      " 3   Votes             5659 non-null   int32  \n",
      " 4   genre_encoded     5659 non-null   int64  \n",
      " 5   director_encoded  5659 non-null   int64  \n",
      " 6   actors_encoded    5659 non-null   int64  \n",
      "dtypes: float64(1), int32(3), int64(3)\n",
      "memory usage: 287.4 KB\n"
     ]
    }
   ],
   "source": [
    "df.info()"
   ]
  },
  {
   "cell_type": "markdown",
   "id": "99142135",
   "metadata": {},
   "source": [
    "# Step 4: Data splitting and Model training/evaluation"
   ]
  },
  {
   "cell_type": "code",
   "execution_count": 21,
   "id": "40655865",
   "metadata": {},
   "outputs": [],
   "source": [
    "from sklearn.metrics import r2_score, mean_absolute_error, mean_squared_error\n",
    "from sklearn.preprocessing import StandardScaler\n",
    "from sklearn.linear_model import LinearRegression\n",
    "from sklearn.neighbors import KNeighborsRegressor\n",
    "from sklearn.svm import SVR\n",
    "from sklearn.ensemble import RandomForestRegressor, GradientBoostingRegressor\n",
    "from sklearn.tree import DecisionTreeRegressor\n",
    "from lightgbm import LGBMRegressor\n",
    "from catboost import CatBoostRegressor\n",
    "from xgboost import XGBRegressor\n",
    "\n",
    "from sklearn.model_selection import train_test_split\n",
    "from sklearn.pipeline import make_pipeline"
   ]
  },
  {
   "cell_type": "markdown",
   "id": "e656dacd",
   "metadata": {},
   "source": [
    "## Data Splitting"
   ]
  },
  {
   "cell_type": "code",
   "execution_count": 22,
   "id": "5c271acc",
   "metadata": {},
   "outputs": [
    {
     "data": {
      "text/html": [
       "<div>\n",
       "<style scoped>\n",
       "    .dataframe tbody tr th:only-of-type {\n",
       "        vertical-align: middle;\n",
       "    }\n",
       "\n",
       "    .dataframe tbody tr th {\n",
       "        vertical-align: top;\n",
       "    }\n",
       "\n",
       "    .dataframe thead th {\n",
       "        text-align: right;\n",
       "    }\n",
       "</style>\n",
       "<table border=\"1\" class=\"dataframe\">\n",
       "  <thead>\n",
       "    <tr style=\"text-align: right;\">\n",
       "      <th></th>\n",
       "      <th>Year</th>\n",
       "      <th>Duration</th>\n",
       "      <th>Votes</th>\n",
       "      <th>genre_encoded</th>\n",
       "      <th>director_encoded</th>\n",
       "      <th>actors_encoded</th>\n",
       "    </tr>\n",
       "  </thead>\n",
       "  <tbody>\n",
       "    <tr>\n",
       "      <th>1</th>\n",
       "      <td>2019</td>\n",
       "      <td>109</td>\n",
       "      <td>8</td>\n",
       "      <td>844</td>\n",
       "      <td>1</td>\n",
       "      <td>1</td>\n",
       "    </tr>\n",
       "    <tr>\n",
       "      <th>3</th>\n",
       "      <td>2019</td>\n",
       "      <td>110</td>\n",
       "      <td>35</td>\n",
       "      <td>107</td>\n",
       "      <td>1</td>\n",
       "      <td>1</td>\n",
       "    </tr>\n",
       "    <tr>\n",
       "      <th>5</th>\n",
       "      <td>1997</td>\n",
       "      <td>147</td>\n",
       "      <td>827</td>\n",
       "      <td>45</td>\n",
       "      <td>15</td>\n",
       "      <td>1</td>\n",
       "    </tr>\n",
       "    <tr>\n",
       "      <th>6</th>\n",
       "      <td>2005</td>\n",
       "      <td>142</td>\n",
       "      <td>1086</td>\n",
       "      <td>5</td>\n",
       "      <td>6</td>\n",
       "      <td>1</td>\n",
       "    </tr>\n",
       "    <tr>\n",
       "      <th>8</th>\n",
       "      <td>2012</td>\n",
       "      <td>82</td>\n",
       "      <td>326</td>\n",
       "      <td>9</td>\n",
       "      <td>1</td>\n",
       "      <td>1</td>\n",
       "    </tr>\n",
       "  </tbody>\n",
       "</table>\n",
       "</div>"
      ],
      "text/plain": [
       "   Year  Duration  Votes  genre_encoded  director_encoded  actors_encoded\n",
       "1  2019       109      8            844                 1               1\n",
       "3  2019       110     35            107                 1               1\n",
       "5  1997       147    827             45                15               1\n",
       "6  2005       142   1086              5                 6               1\n",
       "8  2012        82    326              9                 1               1"
      ]
     },
     "execution_count": 22,
     "metadata": {},
     "output_type": "execute_result"
    }
   ],
   "source": [
    "X = df.drop(columns=['Rating'], axis=1)\n",
    "y = df['Rating']\n",
    "X.head()"
   ]
  },
  {
   "cell_type": "code",
   "execution_count": 23,
   "id": "c4662816",
   "metadata": {},
   "outputs": [
    {
     "data": {
      "text/plain": [
       "(4527, 1132)"
      ]
     },
     "execution_count": 23,
     "metadata": {},
     "output_type": "execute_result"
    }
   ],
   "source": [
    "X_train, X_test, y_train, y_test = train_test_split(X,y,test_size=0.2,random_state=42)\n",
    "len(X_train), len(X_test)"
   ]
  },
  {
   "cell_type": "markdown",
   "id": "0f90e05f",
   "metadata": {},
   "source": [
    "## Model Training"
   ]
  },
  {
   "cell_type": "code",
   "execution_count": 24,
   "id": "c6bb9e35",
   "metadata": {},
   "outputs": [],
   "source": [
    "# Making a pipeline to train the data on different models\n",
    "pipelines = {\n",
    "    'lr':make_pipeline(StandardScaler() , LinearRegression()),\n",
    "    'knn':make_pipeline(StandardScaler() , KNeighborsRegressor(n_neighbors=5)),\n",
    "    'svm':make_pipeline(StandardScaler() , SVR()),\n",
    "    'dt':make_pipeline(StandardScaler() , DecisionTreeRegressor(random_state=1)),\n",
    "    'rf':make_pipeline(StandardScaler() , RandomForestRegressor(n_estimators=100, random_state=1)),\n",
    "    'gb':make_pipeline(StandardScaler() , GradientBoostingRegressor(n_estimators=100, random_state=60)),\n",
    "    'lgb':make_pipeline(StandardScaler() , LGBMRegressor(n_estimators=100, random_state=60)),\n",
    "    'cat':make_pipeline(StandardScaler() , CatBoostRegressor(n_estimators=100, random_state=1, verbose=False)),\n",
    "    'xgb':make_pipeline(StandardScaler() , XGBRegressor(n_estimators=100, random_state=1))\n",
    "}"
   ]
  },
  {
   "cell_type": "code",
   "execution_count": 25,
   "id": "31ace160",
   "metadata": {},
   "outputs": [
    {
     "name": "stdout",
     "output_type": "stream",
     "text": [
      "[LightGBM] [Info] Auto-choosing row-wise multi-threading, the overhead of testing was 0.000141 seconds.\n",
      "You can set `force_row_wise=true` to remove the overhead.\n",
      "And if memory is not enough, you can set `force_col_wise=true`.\n",
      "[LightGBM] [Info] Total Bins 573\n",
      "[LightGBM] [Info] Number of data points in the train set: 4527, number of used features: 6\n",
      "[LightGBM] [Info] Start training from score 5.892931\n"
     ]
    }
   ],
   "source": [
    "fit_models = {}\n",
    "for algo , pipeline in pipelines.items():\n",
    "    model = pipeline.fit(X_train , y_train)\n",
    "    fit_models[algo] = model"
   ]
  },
  {
   "cell_type": "markdown",
   "id": "9dd3c799",
   "metadata": {},
   "source": [
    "## Model Evaluation"
   ]
  },
  {
   "cell_type": "code",
   "execution_count": 26,
   "id": "cbc66227",
   "metadata": {},
   "outputs": [
    {
     "name": "stdout",
     "output_type": "stream",
     "text": [
      "The r2 score of lr model is: 8.594424975564896\n",
      "The mean absolute error of lr model is: 1.0527545782670058\n",
      "The mean squared error of lr model is: 1.6925969277246453\n",
      "\n",
      "The r2 score of knn model is: 7.638422293689873\n",
      "The mean absolute error of knn model is: 1.0159717314487633\n",
      "The mean squared error of knn model is: 1.7102996466431097\n",
      "\n",
      "The r2 score of svm model is: 24.92156813758252\n",
      "The mean absolute error of svm model is: 0.9091456223854014\n",
      "The mean squared error of svm model is: 1.3902600916272425\n",
      "\n",
      "The r2 score of dt model is: -28.25129244927682\n",
      "The mean absolute error of dt model is: 1.158922261484099\n",
      "The mean squared error of dt model is: 2.3748851590106006\n",
      "\n",
      "The r2 score of rf model is: 29.044459541725608\n",
      "The mean absolute error of rf model is: 0.857489399293286\n",
      "The mean squared error of rf model is: 1.3139147120141343\n",
      "\n",
      "The r2 score of gb model is: 30.839144379469396\n",
      "The mean absolute error of gb model is: 0.8609344768128369\n",
      "The mean squared error of gb model is: 1.280681749563134\n",
      "\n",
      "The r2 score of lgb model is: 31.318729200178584\n",
      "The mean absolute error of lgb model is: 0.8414880958812694\n",
      "The mean squared error of lgb model is: 1.271801068117842\n",
      "\n",
      "The r2 score of cat model is: 28.3533854618522\n",
      "The mean absolute error of cat model is: 0.8619231110242177\n",
      "The mean squared error of cat model is: 1.3267116323782497\n",
      "\n",
      "The r2 score of xgb model is: 22.09478998760932\n",
      "The mean absolute error of xgb model is: 0.9059790026593967\n",
      "The mean squared error of xgb model is: 1.442604776409596\n",
      "\n"
     ]
    }
   ],
   "source": [
    "for algo , model in fit_models.items():\n",
    "    pred = model.predict(X_test)\n",
    "    print(\"The r2 score of {} model is: {}\".format(algo , r2_score(y_test , pred) * 100))\n",
    "    print(\"The mean absolute error of {} model is: {}\".format(algo , mean_absolute_error(y_test , pred)))\n",
    "    print(\"The mean squared error of {} model is: {}\".format(algo , mean_squared_error(y_test , pred)))  \n",
    "    print()"
   ]
  },
  {
   "cell_type": "markdown",
   "id": "a6f79552",
   "metadata": {},
   "source": [
    "### The best model is the light gradient boost model with score of 31.32"
   ]
  },
  {
   "cell_type": "markdown",
   "id": "7cbfdd16",
   "metadata": {},
   "source": [
    "# Note: Since the score is too low we may need to return back to feature engineering phase and redo it to test if the score would get any higher"
   ]
  },
  {
   "cell_type": "markdown",
   "id": "a1289233",
   "metadata": {},
   "source": [
    "### Saving the best model"
   ]
  },
  {
   "cell_type": "code",
   "execution_count": 29,
   "id": "f2687ac0",
   "metadata": {},
   "outputs": [],
   "source": [
    "import pickle\n",
    "\n",
    "with open('D:/projects/CodSoft_Projects/Task2/Movies.pkl' , 'wb') as f:\n",
    "    pickle.dump(fit_models['lgb'], f)"
   ]
  },
  {
   "cell_type": "code",
   "execution_count": null,
   "id": "5af868ad",
   "metadata": {},
   "outputs": [],
   "source": []
  }
 ],
 "metadata": {
  "kernelspec": {
   "display_name": "Python 3 (ipykernel)",
   "language": "python",
   "name": "python3"
  },
  "language_info": {
   "codemirror_mode": {
    "name": "ipython",
    "version": 3
   },
   "file_extension": ".py",
   "mimetype": "text/x-python",
   "name": "python",
   "nbconvert_exporter": "python",
   "pygments_lexer": "ipython3",
   "version": "3.9.13"
  }
 },
 "nbformat": 4,
 "nbformat_minor": 5
}
